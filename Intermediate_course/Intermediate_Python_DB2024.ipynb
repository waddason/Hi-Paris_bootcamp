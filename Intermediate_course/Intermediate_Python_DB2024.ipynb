{
  "cells": [
    {
      "cell_type": "markdown",
      "metadata": {
        "id": "xc1rPOw-Q_PJ"
      },
      "source": [
        "**<center><font color='#023F7C' size=\"6.5\">Intermediate Python &#128421;&#65039;</font>** <br>\n",
        "<font color=#023F7C size=4>**Hi! PARIS DataBootcamp 2024**</font> <br>\n",
        "<font color=#023F7C size=2>11:30-12:30 AM / 1:30-2:30 PM </font> <br>\n",
        "\n",
        "</center>\n",
        "\n",
        "<img src = https://www.hi-paris.fr/wp-content/uploads/2020/09/logo-hi-paris-retina.png width = \"300\" height = \"200\" >\n",
        "\n",
        "<font color=\"#023F7C\">**Author**:</font> Laurène DAVID, Machine Learning Research Engineer @ Hi! PARIS <br>\n"
      ]
    },
    {
      "cell_type": "markdown",
      "metadata": {
        "id": "3Rdi-kiAQ_PP"
      },
      "source": [
        "# **<font color='#023F7C'> Introduction</font>**\n",
        "\n",
        "This course is designed for **programmers** who are already comfortable with Python's basic syntax. <br>\n",
        "\n",
        "In the first section, we'll teach you how to develop reliable, efficient and clean code to **level-up your Python skills** 📈. <br>\n",
        "The second section will introduce essential **Python libraries for Data Science 🚀**.\n",
        "\n",
        "<br>\n",
        "\n",
        "<img src = https://www.freecodecamp.org/news/content/images/2021/08/chris-ried-ieic5Tq8YMk-unsplash.jpg width = \"500\" height = \"300\" >\n",
        "\n"
      ]
    },
    {
      "cell_type": "markdown",
      "metadata": {
        "id": "m8KrIa5naEBF"
      },
      "source": [
        "<font size=5>**Reminder on Python's syntax 👩‍🏫**</font> <br>\n",
        "\n",
        "Python is popular programming language with many built-in functionalities. <br>\n",
        "Today, it is used for many tasks such as Data visualization, Web development, Machine Learning to name a few.\n",
        "\n",
        "Here is a summary of Python's basic objects/features:\n",
        "- **Data types**: numerical (int, float), string, lists, dictionaries, sets, boolean, noneType\n",
        "- **Operators**: arithmetic, logical, membership (`==`, `or`/`and`, `in`)\n",
        "- **Loops**: `for`, `while` loops to repeat code\n",
        "- **Conditional statements**: `if`, `else`, `elif` keywords\n",
        "- **Functions**: `print()`, `len()`, `range()`, `max()`, `min()`\n",
        "- **Methods**: `.append()`, `.extend()`, `.sort()` (lists), `.split()`, `.join()` (string)\n"
      ]
    },
    {
      "cell_type": "markdown",
      "metadata": {
        "id": "BjHHR-3hr4dG"
      },
      "source": [
        "<font size=5>**Coding guidelines 💡**</font> <br>\n",
        "\n",
        "Before starting the course, we'd like to share a few basic rules to follow for Python developpers. <br>\n",
        "We'll also introduce more advanced practices at the end of the first section.\n",
        "- Add comments (`#`) to your code\n",
        "- Create unique variable names (not already defined in Python)\n",
        "- Don't hesitate to debug your code using `print()`\n",
        "- Restart your Python environment when using a notebook\n",
        "- Use the `help()` function to get more information"
      ]
    },
    {
      "cell_type": "code",
      "execution_count": null,
      "metadata": {
        "trusted": true
      },
      "outputs": [],
      "source": [
        "# Code to suppress warnings\n",
        "import warnings\n",
        "warnings.filterwarnings(\"ignore\")"
      ]
    },
    {
      "cell_type": "markdown",
      "metadata": {
        "id": "McmTgqqku1rd"
      },
      "source": [
        "# <font color='#023F7C'>**1. Improve your Python skills 📈**</font>\n",
        "\n",
        "In this section, you'll learn how to use Python's Standard Library, how to create efficient lists and to manipulate strings. <br>\n",
        "\n",
        "\n",
        "\n"
      ]
    },
    {
      "cell_type": "markdown",
      "metadata": {
        "id": "bNfjfRutovHQ"
      },
      "source": [
        "## <font color='#023F7C'>**1.1 Standard Library: os, datetime**</font>\n",
        "\n",
        "The **Standard Library** is a collection of modules that can easily be imported into Python code. <br>\n",
        "It comes bundled with Python's core distribution and includes 200 core modules.\n",
        "\n",
        "In this section, we will introduce two Standard Library modules: `os`, `datetime`. <br>\n",
        "\n",
        "<img src = https://ajaytech.co/wp-content/uploads/2019/05/python_standard_libraries-1.png width = \"550\" height = \"350\" >\n",
        "\n",
        "\n",
        "\n"
      ]
    },
    {
      "cell_type": "markdown",
      "metadata": {
        "id": "2AXMIyO8tBFx"
      },
      "source": [
        "**What is a module ?** <br>\n",
        "A module is a Python file containing definitions, statements, and functions. <br>\n",
        "To import a module into your code, you can use the `import` keyword."
      ]
    },
    {
      "cell_type": "code",
      "execution_count": null,
      "metadata": {
        "id": "Gjfb-f_z0qo2",
        "trusted": true
      },
      "outputs": [],
      "source": [
        "import os\n",
        "import datetime"
      ]
    },
    {
      "cell_type": "markdown",
      "metadata": {
        "id": "nTzcthxnjUoJ"
      },
      "source": [
        "<font size=5><u>**os**: interact with your operating system</u></font> <br>\n",
        "\n",
        "The **os** module provides functions to interact with an **operating system** (Windows, macOS, Linux...). <br> It enables programmers to develop **robust** and **platform-independent** Python code. <br>\n",
        "- You can create, delete and manage files and directories\n",
        "- You can handle paths to ensure compatibility between platforms\n"
      ]
    },
    {
      "cell_type": "markdown",
      "metadata": {
        "id": "tRZb0PObz5px"
      },
      "source": [
        "| os methods | description |\n",
        "| --------| -------------|\n",
        "|`os.getcwd()` | Get the current working directory.\n",
        "|`os.chdir(path)` | Change the current working directory to a specified path.\n",
        "|`os.listdir(path)` | List the files and directories in the specified path.\n",
        "|`os.path.join(path, *paths)`| Join one or more path components into a single path.\n",
        "|`os.path.split(path)`| Split a path into the directory part and the filename part.\n",
        "\n",
        "\n",
        "\n"
      ]
    },
    {
      "cell_type": "markdown",
      "metadata": {
        "id": "NqMECGMqeH9N"
      },
      "source": [
        "**What is the current working directory ?** <br>\n",
        "The current working directory (cwd) is the directory where Python is executing code in your computer. <br>\n",
        "To access files outside of the cwd, you need to write the file's exact path.\n",
        "\n"
      ]
    },
    {
      "cell_type": "code",
      "execution_count": null,
      "metadata": {
        "colab": {
          "base_uri": "https://localhost:8080/",
          "height": 35
        },
        "executionInfo": {
          "elapsed": 7,
          "status": "ok",
          "timestamp": 1692450829455,
          "user": {
            "displayName": "laurene david",
            "userId": "12504925674923465673"
          },
          "user_tz": -120
        },
        "id": "Cs2oiOqE6W_q",
        "outputId": "9b8f8a5b-175b-45e3-8c1c-aec1dd3d144d",
        "trusted": true
      },
      "outputs": [],
      "source": [
        "# Get the current working directory\n",
        "os.getcwd()"
      ]
    },
    {
      "cell_type": "code",
      "execution_count": null,
      "metadata": {
        "colab": {
          "base_uri": "https://localhost:8080/",
          "height": 35
        },
        "executionInfo": {
          "elapsed": 6,
          "status": "ok",
          "timestamp": 1692450829455,
          "user": {
            "displayName": "laurene david",
            "userId": "12504925674923465673"
          },
          "user_tz": -120
        },
        "id": "bweNAWwGuw0D",
        "outputId": "cd61aad8-1a76-4306-917f-64bda5da41e9",
        "trusted": true
      },
      "outputs": [],
      "source": [
        "# Use os.path.join to create a full path\n",
        "path_to_file = 'path_to_file' # path\n",
        "file_name = \"file_name.csv\" # file name\n",
        "\n",
        "os.path.join(path_to_file,'file_name.csv') "
      ]
    },
    {
      "cell_type": "code",
      "execution_count": null,
      "metadata": {
        "colab": {
          "base_uri": "https://localhost:8080/"
        },
        "executionInfo": {
          "elapsed": 5,
          "status": "ok",
          "timestamp": 1692451181860,
          "user": {
            "displayName": "laurene david",
            "userId": "12504925674923465673"
          },
          "user_tz": -120
        },
        "id": "rLipLvkJ84RD",
        "outputId": "5fa959a1-76c1-4a5e-c87f-1af008a05d7e",
        "trusted": true
      },
      "outputs": [],
      "source": [
        "# List every file in your current working directory\n",
        "os.listdir()"
      ]
    },
    {
      "cell_type": "markdown",
      "metadata": {
        "id": "aXwBMwyK1qUd"
      },
      "source": [
        "You can also use the `glob` module to find files that matches a specific pattern. <br>\n",
        "The `glob.glob()` function takes a file path pattern and returns a list of file names that match the pattern."
      ]
    },
    {
      "cell_type": "markdown",
      "metadata": {
        "id": "L4trG_QVKvl3"
      },
      "source": [
        "<br>\n",
        "\n",
        "<font size=5><u>**datetime**: Manipulate date & time data</u></font> <br>\n",
        "\n",
        "Python doesn't have a built-in data type to work with date/time data. It often stores this type of data as string objects.\n",
        "\n",
        "The **datetime** module provides data types and methods to easily process dates, time, and time intervals. <br>\n",
        "The module has six main classes to work with date/time data."
      ]
    },
    {
      "cell_type": "markdown",
      "metadata": {
        "id": "_UNrylIWopG2"
      },
      "source": [
        "\n",
        "| Datetime class | Description |\n",
        "| ------| ------------|\n",
        "| `date`|  Date (year, month, and day) without time information |\n",
        "|`time` | Time (hour, minute, second, and microsecond) without date information |\n",
        "| `datetime` | Combination of date and time (year, month, day, hour, minute, second) |\n",
        "| `timedelta` | Duration or difference between two dates or times."
      ]
    },
    {
      "cell_type": "markdown",
      "metadata": {
        "id": "egKTSXOEySZZ"
      },
      "source": [
        "Each datetime class has its own methods which includes creating dates, extracting parts of a date...  <br>\n",
        "\n",
        "*Note: You can import a specific class from a library using `from ... import ...`.*"
      ]
    },
    {
      "cell_type": "code",
      "execution_count": null,
      "metadata": {
        "id": "t6cHrhMNwpiE",
        "trusted": true
      },
      "outputs": [],
      "source": [
        "from datetime import date # date class\n",
        "from datetime import datetime # datetime class"
      ]
    },
    {
      "cell_type": "code",
      "execution_count": null,
      "metadata": {
        "colab": {
          "base_uri": "https://localhost:8080/"
        },
        "executionInfo": {
          "elapsed": 18,
          "status": "ok",
          "timestamp": 1692394530195,
          "user": {
            "displayName": "laurene david",
            "userId": "12504925674923465673"
          },
          "user_tz": -120
        },
        "id": "-sa7oFpY0VXQ",
        "outputId": "387804cf-38b1-42c0-ccd7-b0826e5776d5",
        "trusted": true
      },
      "outputs": [],
      "source": [
        "# Create a date object\n",
        "date_ = date(year=2012, month=10, day=4) # 4th of October 2012"
      ]
    },
    {
      "cell_type": "code",
      "execution_count": null,
      "metadata": {},
      "outputs": [],
      "source": [
        "# Extract the year, month and day of the created date object\n",
        "print(\"Year:\", date_.year) \n",
        "print(\"Month:\", date_.month) \n",
        "print(\"Day:\", date_.day) "
      ]
    },
    {
      "cell_type": "markdown",
      "metadata": {
        "id": "mxSoz3nyWrff"
      },
      "source": [
        "You can **extract a date/datetime** with a specific format using `.strptime(format)`. <br>\n",
        "Formats for timestamps include `%Y` for year, `%m` for month, for `%d` day, `%H` for hour ..."
      ]
    },
    {
      "cell_type": "code",
      "execution_count": null,
      "metadata": {
        "trusted": true
      },
      "outputs": [],
      "source": [
        "# Create a datetime object\n",
        "datetime_ = datetime(year=2012, month=10, day=4, hour=10, minute=35, second=00)\n",
        "datetime_"
      ]
    },
    {
      "cell_type": "code",
      "execution_count": null,
      "metadata": {
        "trusted": true
      },
      "outputs": [],
      "source": [
        "# Create different formats for dates\n",
        "year_month_day = \"%Y-%m-%d\" # year-month-day\n",
        "year_month = \"%Y-%m\" # year-month"
      ]
    },
    {
      "cell_type": "code",
      "execution_count": null,
      "metadata": {
        "colab": {
          "base_uri": "https://localhost:8080/"
        },
        "executionInfo": {
          "elapsed": 12,
          "status": "ok",
          "timestamp": 1692394530195,
          "user": {
            "displayName": "laurene david",
            "userId": "12504925674923465673"
          },
          "user_tz": -120
        },
        "id": "gPeF6OwL2dMW",
        "outputId": "e45e3257-1aa4-40ae-8d8d-95d215015c6d",
        "trusted": true
      },
      "outputs": [],
      "source": [
        "# Apply the two date formats on the datetime object (datetime_)\n",
        "print(\"Year-month-day:\", datetime_.strftime(year_month_day))\n",
        "print(\"Year-month:\", datetime_.strftime(year_month))"
      ]
    },
    {
      "cell_type": "markdown",
      "metadata": {
        "id": "ghOZldpwVFX4"
      },
      "source": [
        "You can also **convert strings to a datetime** object using `datetime.strptime(str, format)`. <br>"
      ]
    },
    {
      "cell_type": "code",
      "execution_count": null,
      "metadata": {
        "colab": {
          "base_uri": "https://localhost:8080/"
        },
        "executionInfo": {
          "elapsed": 10,
          "status": "ok",
          "timestamp": 1692394530195,
          "user": {
            "displayName": "laurene david",
            "userId": "12504925674923465673"
          },
          "user_tz": -120
        },
        "id": "fDu0rNws4tLG",
        "outputId": "96ae2e81-1018-4cf7-fcd4-3a92fbdc4ef6",
        "trusted": true
      },
      "outputs": [],
      "source": [
        "datetime_str = \"2012-10-4 11:35:00\" # original string\n",
        "datetime_format = '%Y-%m-%d %H:%M:%S'# datetime format"
      ]
    },
    {
      "cell_type": "code",
      "execution_count": null,
      "metadata": {},
      "outputs": [],
      "source": [
        "# Convert the string to a datetime object using the datetime format\n",
        "datetime.strptime(datetime_str, datetime_format)"
      ]
    },
    {
      "cell_type": "markdown",
      "metadata": {
        "id": "xXEibKNJRbwg"
      },
      "source": [
        "<br>\n",
        "\n",
        "## <font color='#023F7C'>**1.2  Efficient loops: list comprehension, enumerate/zip**</font>"
      ]
    },
    {
      "cell_type": "markdown",
      "metadata": {
        "id": "gvpH9RRmx_Ri"
      },
      "source": [
        "<font size=5><u>**Single-line for loops**: list comprehension</u></font> <br>\n",
        "\n",
        "List comprehensions allow you to **write loops using a single line of code.** <br>\n",
        "Rather than creating a list and adding elements to it, you define the list and its contents at the same time.\n",
        "\n",
        "In the following example, an `if else` statement was added inside the list comprehension.\n",
        "\n",
        "<img src = https://4.bp.blogspot.com/-uRPZqKbIGwQ/XRtgWhC6qqI/AAAAAAAAH0w/--oGnwKsnpo00GwQgH2gV3RPwHwK8uONgCLcBGAs/s1600/comprehension.PNG width = \"500\" height = \"200\" >"
      ]
    },
    {
      "cell_type": "code",
      "execution_count": null,
      "metadata": {
        "id": "BXoVpfxqdvRp",
        "trusted": true
      },
      "outputs": [],
      "source": [
        "list_text = [\"Welcome\",\"to\",\"the\",\"Hi!\",\"Paris\",\"Data\",\"Bootcamp\"]"
      ]
    },
    {
      "cell_type": "code",
      "execution_count": null,
      "metadata": {
        "id": "8ZJWzcDN3f0P",
        "trusted": true
      },
      "outputs": [],
      "source": [
        "# Compute the length of each word with a simple for-loop\n",
        "result = []\n",
        "for elem in list_text:\n",
        "  result.append(len(elem))\n",
        "  \n",
        "result"
      ]
    },
    {
      "cell_type": "code",
      "execution_count": null,
      "metadata": {
        "colab": {
          "base_uri": "https://localhost:8080/"
        },
        "executionInfo": {
          "elapsed": 20,
          "status": "ok",
          "timestamp": 1692394530547,
          "user": {
            "displayName": "laurene david",
            "userId": "12504925674923465673"
          },
          "user_tz": -120
        },
        "id": "iJ58rKZ65QEs",
        "outputId": "f2d043b6-9719-43db-ef05-aabcbd9d2364",
        "trusted": true
      },
      "outputs": [],
      "source": [
        "# Compute the length of each word with list comprehension\n",
        "[len(elem) for elem in list_text]"
      ]
    },
    {
      "cell_type": "markdown",
      "metadata": {},
      "source": [
        "You can create **nested loops** by adding more `for` statements"
      ]
    },
    {
      "cell_type": "code",
      "execution_count": null,
      "metadata": {
        "colab": {
          "base_uri": "https://localhost:8080/"
        },
        "executionInfo": {
          "elapsed": 20,
          "status": "ok",
          "timestamp": 1692394530548,
          "user": {
            "displayName": "laurene david",
            "userId": "12504925674923465673"
          },
          "user_tz": -120
        },
        "id": "jNymxZLr9WMF",
        "outputId": "e65b784c-7a8e-4756-d6b1-f5c2e5dd8d01",
        "trusted": true
      },
      "outputs": [],
      "source": [
        "# Create a nested list with the sentence\n",
        "nested_list_text = [[\"Welcome\",\"to\",\"the\",\"Hi!\"],[\"Paris\",\"Data\",\"Bootcamp\"]]\n",
        "nested_list_text"
      ]
    },
    {
      "cell_type": "code",
      "execution_count": null,
      "metadata": {},
      "outputs": [],
      "source": [
        "# Flatten the nested list using list comprehension\n",
        "[elem for list_ in nested_list_text for elem in list_]"
      ]
    },
    {
      "cell_type": "markdown",
      "metadata": {
        "id": "UmoV01Zk8Ch1"
      },
      "source": [
        "<br>\n",
        "\n",
        "<font size=5><u>**Enumerate & zip functions**</u></font> <br>\n",
        "\n"
      ]
    },
    {
      "cell_type": "markdown",
      "metadata": {
        "id": "UH08mNc2Nq3J"
      },
      "source": [
        "\n",
        "**1. Enumerate** <br>\n",
        "\n",
        "`enumerate()` generates **tuples with the list's items and corresponding index.** <br>\n",
        "It is often used to get the indexes of an object, instead of using `range(len(object))`\n"
      ]
    },
    {
      "cell_type": "code",
      "execution_count": null,
      "metadata": {
        "colab": {
          "base_uri": "https://localhost:8080/"
        },
        "executionInfo": {
          "elapsed": 18,
          "status": "ok",
          "timestamp": 1692394530550,
          "user": {
            "displayName": "laurene david",
            "userId": "12504925674923465673"
          },
          "user_tz": -120
        },
        "id": "KgXV0cwZULry",
        "outputId": "e2c6d76f-c10d-4cc2-ad9b-732c5bf4c847",
        "trusted": true
      },
      "outputs": [],
      "source": [
        "# Define an iterable object (list)\n",
        "list_str = [\"Hi!\", \"PARIS\", \"Data\", \"Bootcamp\"]\n",
        "\n",
        "# Convert an enumerated object to a list\n",
        "list(enumerate(list_str))"
      ]
    },
    {
      "cell_type": "code",
      "execution_count": null,
      "metadata": {
        "colab": {
          "base_uri": "https://localhost:8080/"
        },
        "executionInfo": {
          "elapsed": 16,
          "status": "ok",
          "timestamp": 1692394530550,
          "user": {
            "displayName": "laurene david",
            "userId": "12504925674923465673"
          },
          "user_tz": -120
        },
        "id": "dKfBYljQVPt2",
        "outputId": "64bddd42-6a89-4576-c723-63df5d9591ba",
        "trusted": true
      },
      "outputs": [],
      "source": [
        "# Enumerate with a for-loop\n",
        "for elem in enumerate(list_str):\n",
        "  print(elem)"
      ]
    },
    {
      "cell_type": "code",
      "execution_count": null,
      "metadata": {
        "colab": {
          "base_uri": "https://localhost:8080/"
        },
        "executionInfo": {
          "elapsed": 15,
          "status": "ok",
          "timestamp": 1692394530550,
          "user": {
            "displayName": "laurene david",
            "userId": "12504925674923465673"
          },
          "user_tz": -120
        },
        "id": "b6Iw2yg7DqWR",
        "outputId": "cb3711f6-4677-4c4f-c2fd-95b71f232158",
        "trusted": true
      },
      "outputs": [],
      "source": [
        "# Enumerate with list comprehension\n",
        "[(i,j) for i,j in enumerate(list_str)]"
      ]
    },
    {
      "cell_type": "markdown",
      "metadata": {
        "id": "eJHU1wJcIjhR"
      },
      "source": [
        "**2. Zip** <br>\n",
        "\n",
        "The `zip()` function **combines multiple lists into tuple with multiple elements.** <br>\n",
        "It pairs elements with the same index in each iterable `(item1,item2)` <br>\n",
        "- Allows you to loop through multiple iterables at the same time\n",
        "- Preferred over nested loops when possible"
      ]
    },
    {
      "cell_type": "code",
      "execution_count": null,
      "metadata": {
        "colab": {
          "base_uri": "https://localhost:8080/"
        },
        "executionInfo": {
          "elapsed": 15,
          "status": "ok",
          "timestamp": 1692394530551,
          "user": {
            "displayName": "laurene david",
            "userId": "12504925674923465673"
          },
          "user_tz": -120
        },
        "id": "iT-5K0A-PGqa",
        "outputId": "5fdd32c9-c72a-4602-97b4-3ea64c6203e7",
        "trusted": true
      },
      "outputs": [],
      "source": [
        "# Create an iterable\n",
        "list_range = range(2,6)\n",
        "\n",
        "# Create an iterable by combining list_range and list_str\n",
        "list(zip(list_range,list_str))"
      ]
    },
    {
      "cell_type": "code",
      "execution_count": null,
      "metadata": {
        "colab": {
          "base_uri": "https://localhost:8080/"
        },
        "executionInfo": {
          "elapsed": 15,
          "status": "ok",
          "timestamp": 1692394530554,
          "user": {
            "displayName": "laurene david",
            "userId": "12504925674923465673"
          },
          "user_tz": -120
        },
        "id": "M7slKgnvO6Gc",
        "outputId": "ac5b0415-b114-46c8-f4f4-d3ad71305811",
        "trusted": true
      },
      "outputs": [],
      "source": [
        "# Zip with list-comprehension\n",
        "[(i,j) for i,j in zip(list_range,list_str)]"
      ]
    },
    {
      "cell_type": "markdown",
      "metadata": {
        "id": "UYUlleUymuWg"
      },
      "source": [
        "<br>\n",
        "<br>"
      ]
    },
    {
      "cell_type": "markdown",
      "metadata": {
        "id": "2hG0-kpHRqJu"
      },
      "source": [
        "## <font color='#023F7C'>**1.3 String manipulation**</font>\n",
        "\n",
        "Strings are are ordered list of characters (letters, numbers, spaces, ponctuation...). <br>\n",
        "They are Python's built-in data type for text and are defined using quotes (`''` or `\"\"`) <br>\n",
        "\n",
        "In this section, we'll show you to efficiently handle strings using **string methods**.\n",
        "\n"
      ]
    },
    {
      "cell_type": "markdown",
      "metadata": {
        "id": "2GZNabgPixuV"
      },
      "source": [
        "<font size=5>**<u>String methods</u>**</font> <br>\n",
        "\n",
        "Methods are operators that are associated to a specific Python object (string, list, dict,...). <br>\n",
        "They are used using the dot notation (examples: `.append`, `.sort`)\n",
        "\n",
        "In the following table, we've listed some methods you can apply on strings. <br>"
      ]
    },
    {
      "cell_type": "markdown",
      "metadata": {
        "id": "q6UCMoCuuC61"
      },
      "source": [
        "| str method | Description | Arguments |\n",
        "|-----------| ------------|------------|\n",
        "| `.lower()`, `.upper()` | Converts all strings to lower or upper case | No arguments |\n",
        "| `.lstrip()`, `.rstrip()`, `.strip()` | Removes leading or trailing characters from a string (or both) | `chars`: set of characters to be removed (default= `\" \"`) |\n",
        "| `.replace()` | Replace all occurences of a substring | `oldvalue`: substring to search for <br> `newvalue`: substring to replace |\n",
        "| `.split()` | Splits the string into a list of substrings based on a separator | `separator`: separator to split string (default= `\" \"`) |\n",
        "| `.startswith(prefix)`, `.endswith(suffix)` | Check if a string starts or end with a substring | `prefix`: string to be checked at the start <br> `suffix`: string to be checked at the end |\n",
        "| `.join()` |  Join the elements of a list into a string with a specified separator | The separator is placed at the beginning ex: `\" \".join()`<br> The argument is the list of strings to join"
      ]
    },
    {
      "cell_type": "code",
      "execution_count": null,
      "metadata": {
        "id": "mC6piT744inQ",
        "trusted": true
      },
      "outputs": [],
      "source": [
        "text = \"We###lcome to the Hi! Par###is DataBootcamp 2023 !\""
      ]
    },
    {
      "cell_type": "code",
      "execution_count": null,
      "metadata": {
        "colab": {
          "base_uri": "https://localhost:8080/"
        },
        "executionInfo": {
          "elapsed": 17,
          "status": "ok",
          "timestamp": 1692394530825,
          "user": {
            "displayName": "laurene david",
            "userId": "12504925674923465673"
          },
          "user_tz": -120
        },
        "id": "2LvmrqO53jHl",
        "outputId": "03c0bb3c-e94c-444b-9ca9-5335ebd7b4ff",
        "trusted": true
      },
      "outputs": [],
      "source": [
        "# Split the text into a list using the \" \" character\n",
        "text_split = text.split(\" \")\n",
        "text_split"
      ]
    },
    {
      "cell_type": "code",
      "execution_count": null,
      "metadata": {
        "trusted": true
      },
      "outputs": [],
      "source": [
        "# Join the elements of text_split into a string\n",
        "\" \".join(text_split)"
      ]
    },
    {
      "cell_type": "code",
      "execution_count": null,
      "metadata": {
        "trusted": true
      },
      "outputs": [],
      "source": [
        "# Clean the text (replace ### with an empty string)\n",
        "text.replace(\"###\",\"\")"
      ]
    },
    {
      "cell_type": "markdown",
      "metadata": {
        "id": "TZI-KMQWK-Ud"
      },
      "source": [
        "# <font color='#023F7C'>**2. Python for Data Science 🚀**</font>\n",
        "\n",
        "An open-source library is a collection of modules made available to the public for free under an open-source license. <br>\n",
        "Python has a rich ecosystem of **open-source libraries** dedicated to Data Science.\n",
        "\n",
        "Data Science libraries are useful for every step of a project, from **Data Cleaning 🧹** to **Model Building ⚙️**. <br>\n",
        "You'll use the following librairies during the bootcamp:\n",
        "- **NumPy**: A fundamental library for Numerical computing in Python.\n",
        "- **Pandas**: A popular library for Data manipulation and analysis\n",
        "- **Matplotlib**/**Seaborn** : Plotting libraries to generate visualizations in Python.\n",
        "- **Scikit-learn**: A library that provides tools for Machine Learning (pre-processing, modeling,...).\n",
        "\n",
        "<br>\n",
        "\n",
        "<img src = https://global-uploads.webflow.com/6473d8d02a3cf26273f2787d/6473d8d02a3cf26273f2873c_image3-1024x683.png width = \"500\" height = \"350\" >\n"
      ]
    },
    {
      "cell_type": "markdown",
      "metadata": {
        "id": "3YLJ6dQFp9a_"
      },
      "source": [
        "Open-source libraries need to be installed before being imported to Python code.\n",
        "- Install a library using `pip install ...` (terminal or notebook cell)\n",
        "- Load a library with `import ...`"
      ]
    },
    {
      "cell_type": "markdown",
      "metadata": {
        "id": "IUc399t5_qL7"
      },
      "source": [
        "##  <font color='#023F7C'>**2.1 Numerical computing with NumPy**</font>\n",
        "\n",
        "**NumPy** is a fundamental Python library for Numerical computing. <br>\n",
        "- It provides tools to work with multi-dimensional arrays and matrices. <br>\n",
        "- It also provides a vast collection of mathematical functions that can be used on arrays.\n",
        "\n",
        "\n",
        "\n",
        "\n",
        "\n",
        "\n"
      ]
    },
    {
      "cell_type": "code",
      "execution_count": null,
      "metadata": {
        "id": "w5hVdp_3m1Ib",
        "trusted": true
      },
      "outputs": [],
      "source": [
        "import numpy as np"
      ]
    },
    {
      "cell_type": "markdown",
      "metadata": {
        "id": "qTmp9dGoKJQ6"
      },
      "source": [
        "**<font size='5'><u>NumPy arrays</u>**</font> <br>\n",
        "NumPy provides an **array object** that is much faster to process than lists. <br> They are created using `np.array()`.\n",
        "- Arrays are homogeneous, which means each item should have the same data type\n",
        "- Arrays can be multidimensional (1D: vector, 2D: matrix, 3D...)"
      ]
    },
    {
      "cell_type": "markdown",
      "metadata": {
        "id": "wUa2MHG6NeqP"
      },
      "source": [
        "<img src = https://predictivehacks.com/wp-content/uploads/2020/08/numpy_arrays-1024x572.png width = \"500\" height = \"280\" >"
      ]
    },
    {
      "cell_type": "code",
      "execution_count": null,
      "metadata": {
        "colab": {
          "base_uri": "https://localhost:8080/"
        },
        "executionInfo": {
          "elapsed": 11,
          "status": "ok",
          "timestamp": 1692394530826,
          "user": {
            "displayName": "laurene david",
            "userId": "12504925674923465673"
          },
          "user_tz": -120
        },
        "id": "mTYSe4c_LXZm",
        "outputId": "9569c2be-e0e1-44c0-c6a2-d2e3fa735f24",
        "trusted": true
      },
      "outputs": [],
      "source": [
        "# 1D array (vector)\n",
        "array_1d = np.array([1,2,3,4,5,6])\n",
        "array_1d"
      ]
    },
    {
      "cell_type": "code",
      "execution_count": null,
      "metadata": {
        "colab": {
          "base_uri": "https://localhost:8080/"
        },
        "executionInfo": {
          "elapsed": 8,
          "status": "ok",
          "timestamp": 1692394530826,
          "user": {
            "displayName": "laurene david",
            "userId": "12504925674923465673"
          },
          "user_tz": -120
        },
        "id": "8FWvvmRvLX1T",
        "outputId": "b10b1cd1-ce3a-4a70-c01d-9e718b0231d3",
        "trusted": true
      },
      "outputs": [],
      "source": [
        "# 2D array (matrix)\n",
        "array_2d = np.array([[1,2,3],[4,5,6]])\n",
        "array_2d"
      ]
    },
    {
      "cell_type": "code",
      "execution_count": null,
      "metadata": {
        "colab": {
          "base_uri": "https://localhost:8080/"
        },
        "executionInfo": {
          "elapsed": 7,
          "status": "ok",
          "timestamp": 1692394530826,
          "user": {
            "displayName": "laurene david",
            "userId": "12504925674923465673"
          },
          "user_tz": -120
        },
        "id": "EhUQlkH4Mfba",
        "outputId": "aa24d9f2-57de-4f74-a8f7-d661d4cf8d2f",
        "trusted": true
      },
      "outputs": [],
      "source": [
        "# Get an array's shape with np.shape (or .shape)\n",
        "print(\"1D shape:\",np.shape(array_1d))\n",
        "print(\"2D shape:\",np.shape(array_2d))"
      ]
    },
    {
      "cell_type": "code",
      "execution_count": null,
      "metadata": {
        "colab": {
          "base_uri": "https://localhost:8080/"
        },
        "executionInfo": {
          "elapsed": 17,
          "status": "ok",
          "timestamp": 1692394531045,
          "user": {
            "displayName": "laurene david",
            "userId": "12504925674923465673"
          },
          "user_tz": -120
        },
        "id": "amXKl9eXLqPv",
        "outputId": "898e8d75-6047-4a48-e7d7-d901995e73af",
        "trusted": true
      },
      "outputs": [],
      "source": [
        "# Slicing a 1D array with a single index\n",
        "array_1d[0]"
      ]
    },
    {
      "cell_type": "code",
      "execution_count": null,
      "metadata": {
        "colab": {
          "base_uri": "https://localhost:8080/"
        },
        "executionInfo": {
          "elapsed": 11,
          "status": "ok",
          "timestamp": 1692394531045,
          "user": {
            "displayName": "laurene david",
            "userId": "12504925674923465673"
          },
          "user_tz": -120
        },
        "id": "4EOQ7MnOjYbZ",
        "outputId": "ea6fad9e-6b67-4338-e965-a5b1d8e0357a",
        "trusted": true
      },
      "outputs": [],
      "source": [
        "# Slicing a 2D array with two indexes\n",
        "array_2d[0,:] # get the first row"
      ]
    },
    {
      "cell_type": "markdown",
      "metadata": {
        "id": "ylfWh2SGNWol"
      },
      "source": [
        "**<font size='5'><u>NumPy operations</u>**</font> <br>\n",
        "\n",
        "NumPy has many mathematical functions that can be used on its arrays. <br>\n",
        "They extend the capabilities of Python's built-in operators and Standard library modules.\n",
        "\n",
        "They tend to be more efficient than for-loops and list comprehensions on numerical data."
      ]
    },
    {
      "cell_type": "markdown",
      "metadata": {
        "id": "wdH_jiDwLVo9"
      },
      "source": [
        "| Type | Numpy functions | Description |\n",
        "| ------------------| ------------|-----------------|\n",
        "| Trigonometric | `np.cos()`, `np.sim()`, `np.tan()`, `np.arccos()` | Trigonometric and inverse trigonometric functions |\n",
        "| Exponential/Logarithmic |   `np.exp()`, `np.log()` |  Exponential and logarithm functions |\n",
        "| Rounding/Absolute |  `np.round()`, `np.floor()`, `np.ceil()`, `np.abs()` | Round a value or compute its absolute value |\n",
        "| Statistical | `np.mean()`, `np.median()`, `np.std()` | Compute basic statistical metrics (mean, median, std,...) |"
      ]
    },
    {
      "cell_type": "code",
      "execution_count": null,
      "metadata": {
        "colab": {
          "base_uri": "https://localhost:8080/"
        },
        "executionInfo": {
          "elapsed": 6,
          "status": "ok",
          "timestamp": 1692394531045,
          "user": {
            "displayName": "laurene david",
            "userId": "12504925674923465673"
          },
          "user_tz": -120
        },
        "id": "LzSCS39kTVjE",
        "outputId": "2a114186-9579-47ea-84a0-849603728023",
        "trusted": true
      },
      "outputs": [],
      "source": [
        "print(np.exp(0)) # exponential\n",
        "print(np.log(1)) # log"
      ]
    },
    {
      "cell_type": "code",
      "execution_count": null,
      "metadata": {
        "colab": {
          "base_uri": "https://localhost:8080/"
        },
        "executionInfo": {
          "elapsed": 4,
          "status": "ok",
          "timestamp": 1692394531045,
          "user": {
            "displayName": "laurene david",
            "userId": "12504925674923465673"
          },
          "user_tz": -120
        },
        "id": "_eALj75_Ugbt",
        "outputId": "91262f3b-4a58-40a6-f3e3-7316bc0e3235",
        "trusted": true
      },
      "outputs": [],
      "source": [
        "# Apply the log function to each element of an array\n",
        "np.log(array_1d)"
      ]
    },
    {
      "cell_type": "markdown",
      "metadata": {},
      "source": [
        "Some functions allow **mathematical operations to be vectorized**. <br>\n",
        "Vectorized operations are applied simultaneously to each element of one or more arrays.  \n",
        "\n",
        "Here are some of these functions:  \n",
        "- `np.add()`: Sum the elements of two arrays element by element\n",
        "- `np.substract()`: Substract the elements of two arrays element by element\n",
        "- `np.multiply()`: Same with multiplication \n",
        "- `np.divide()`: Same with division"
      ]
    },
    {
      "cell_type": "code",
      "execution_count": null,
      "metadata": {
        "colab": {
          "base_uri": "https://localhost:8080/"
        },
        "executionInfo": {
          "elapsed": 5,
          "status": "ok",
          "timestamp": 1692394531045,
          "user": {
            "displayName": "laurene david",
            "userId": "12504925674923465673"
          },
          "user_tz": -120
        },
        "id": "plTAkhPOTkeo",
        "outputId": "bae2975b-685e-4ca2-90ce-21cb8cd97d8c",
        "trusted": true
      },
      "outputs": [],
      "source": [
        "array1 = np.array([2,4,6,8,10])\n",
        "array2 = np.array([2,2,2,2,2])\n",
        "\n",
        "# Add elements of array1 and array2 element wise\n",
        "np.add(array1,array2)"
      ]
    },
    {
      "cell_type": "markdown",
      "metadata": {
        "id": "ecXQuYp-ohUG"
      },
      "source": [
        "## <font color='#023F7C'>**2.2 Data manipulation with Pandas</font>**\n",
        "\n",
        "**Pandas** is a popular library for Data manipulation and analysis. <br>\n",
        "It offers powerful data structures and tools to handle structured data. <br>\n"
      ]
    },
    {
      "cell_type": "code",
      "execution_count": null,
      "metadata": {
        "id": "LM1gq9qOomuU",
        "trusted": true
      },
      "outputs": [],
      "source": [
        "import pandas as pd"
      ]
    },
    {
      "cell_type": "code",
      "execution_count": null,
      "metadata": {
        "trusted": true
      },
      "outputs": [],
      "source": [
        "print(\"Pandas version:\", pd.__version__)"
      ]
    },
    {
      "cell_type": "markdown",
      "metadata": {
        "id": "nuDVnojyNwxZ"
      },
      "source": [
        "**<font size='5'><u>What are DataFrames ?**</u></font> <br>\n",
        "\n",
        "Dataframes are **two-dimensional** data structures with rows and columns. <br> Each row is identified with an index label, and each column by a column name.\n",
        "\n",
        "A dataframe with a single column (and index) is called a Pandas Series.\n",
        "\n",
        "<img src = https://pynative.com/wp-content/uploads/2021/02/dataframe.png width = \"600\" height = \"300\" >"
      ]
    },
    {
      "cell_type": "markdown",
      "metadata": {},
      "source": [
        "**Build a dataframe** <br>\n",
        "Dataframes are created using the `pd.DataFrame()` statement. <br>\n",
        "You can use a dictionary or a two-dimensional array to build it.\n"
      ]
    },
    {
      "cell_type": "code",
      "execution_count": null,
      "metadata": {
        "trusted": true
      },
      "outputs": [],
      "source": [
        "name_column = [\"Joe\", \"Nat\", \"Harry\", \"Sam\", \"Monica\"]\n",
        "age_column = [20, 21, 19, 20, 22]\n",
        "marks_column = [85.10, 77.80, 91.54, 88.78, 60.85]"
      ]
    },
    {
      "cell_type": "code",
      "execution_count": null,
      "metadata": {
        "colab": {
          "base_uri": "https://localhost:8080/",
          "height": 206
        },
        "executionInfo": {
          "elapsed": 16,
          "status": "ok",
          "timestamp": 1692394531590,
          "user": {
            "displayName": "laurene david",
            "userId": "12504925674923465673"
          },
          "user_tz": -120
        },
        "id": "9CEdtiU7kFuL",
        "outputId": "4b81a7ae-0550-4a4f-a159-dafa7999069c",
        "trusted": true
      },
      "outputs": [],
      "source": [
        "# Define the dataframe using a dictionary \n",
        "df = pd.DataFrame({\"Name\":name_column,\n",
        "                   \"Age\":age_column,\n",
        "                   \"Marks\":marks_column})"
      ]
    },
    {
      "cell_type": "code",
      "execution_count": null,
      "metadata": {
        "trusted": true
      },
      "outputs": [],
      "source": [
        "df"
      ]
    },
    {
      "cell_type": "markdown",
      "metadata": {},
      "source": [
        "You can also **load a dataframe** from an external file (csv, excel, json) using `pd.read_` type functions. <br>\n",
        "\n",
        "Here is an example using `pd.read_csv()` to load the `football_players.csv` file. <br>\n",
        "This csv file contains data on a large number of male and female football players ⚽. <br>"
      ]
    },
    {
      "cell_type": "code",
      "execution_count": null,
      "metadata": {
        "trusted": true
      },
      "outputs": [],
      "source": [
        "# Import a csv file as a dataframe\n",
        "players_df = pd.read_csv(\"football_players.csv\")"
      ]
    },
    {
      "cell_type": "code",
      "execution_count": null,
      "metadata": {
        "trusted": true
      },
      "outputs": [],
      "source": [
        "# Show the first five rows of a dataframe\n",
        "players_df.head()"
      ]
    },
    {
      "cell_type": "markdown",
      "metadata": {},
      "source": [
        "You can also <u>save</u> dataframes into different data formats with `.to_csv()`, `to_excel()`, ..."
      ]
    },
    {
      "cell_type": "markdown",
      "metadata": {},
      "source": [
        "**Select columns in a dataframe** <br>\n",
        "To select a single column, you have to use brackets `[]`. <br>\n",
        "To select more than one column, double brackets are used `[[]]`. "
      ]
    },
    {
      "cell_type": "code",
      "execution_count": null,
      "metadata": {
        "colab": {
          "base_uri": "https://localhost:8080/"
        },
        "executionInfo": {
          "elapsed": 16,
          "status": "ok",
          "timestamp": 1692394531591,
          "user": {
            "displayName": "laurene david",
            "userId": "12504925674923465673"
          },
          "user_tz": -120
        },
        "id": "iotxfvBwWWNy",
        "outputId": "ca5d9279-ff98-43d4-8108-a1df28248600",
        "trusted": true
      },
      "outputs": [],
      "source": [
        "# Select the Gender column\n",
        "players_df[\"Gender\"]"
      ]
    },
    {
      "cell_type": "code",
      "execution_count": null,
      "metadata": {
        "colab": {
          "base_uri": "https://localhost:8080/",
          "height": 206
        },
        "executionInfo": {
          "elapsed": 15,
          "status": "ok",
          "timestamp": 1692394531591,
          "user": {
            "displayName": "laurene david",
            "userId": "12504925674923465673"
          },
          "user_tz": -120
        },
        "id": "P6R1MJx_WYR-",
        "outputId": "57f9ac58-bca2-43d3-d7e0-90df019d8856",
        "trusted": true
      },
      "outputs": [],
      "source": [
        "# Select the Gender and Year columns\n",
        "players_df[[\"Gender\",\"Year\"]]"
      ]
    },
    {
      "cell_type": "markdown",
      "metadata": {
        "id": "WussyMSfJHX0"
      },
      "source": [
        "**Pandas dtypes** <br>\n",
        "Pandas has its own data types (dtypes) to store information:\n",
        "- Numerical types are stored as `int64` or `float64`\n",
        "- String/mixed types are stored as `object`\n",
        "- Other dtypes: `bool`, `datetime64[ns]`, `timedelta`, `category`\n",
        "\n",
        "You can access a dataframe's dtypes with `.dtypes` <br>\n",
        "You can also modify a columns' dtype using `.astype()`"
      ]
    },
    {
      "cell_type": "code",
      "execution_count": null,
      "metadata": {
        "colab": {
          "base_uri": "https://localhost:8080/"
        },
        "executionInfo": {
          "elapsed": 15,
          "status": "ok",
          "timestamp": 1692394531592,
          "user": {
            "displayName": "laurene david",
            "userId": "12504925674923465673"
          },
          "user_tz": -120
        },
        "id": "vLyPXZWNoNuW",
        "outputId": "8aca5020-fd98-4200-8413-d8d6294e6eb0",
        "trusted": true
      },
      "outputs": [],
      "source": [
        "# Use .dtypes to access these data types\n",
        "players_df.dtypes"
      ]
    },
    {
      "cell_type": "markdown",
      "metadata": {},
      "source": [
        "You can also use `.info()` to get general information on a dataframe (number of rows/columns, name of columns, dtypes,...)."
      ]
    },
    {
      "cell_type": "code",
      "execution_count": null,
      "metadata": {
        "trusted": true
      },
      "outputs": [],
      "source": [
        "players_df.info()"
      ]
    },
    {
      "cell_type": "markdown",
      "metadata": {},
      "source": [
        "**Remark**: The `attacking` and `preferred_foot` columns have a number of \"non-null\" values that is lower than the total number of rows (13299). <br>\n",
        "This indicates that the two columns contain missing values."
      ]
    },
    {
      "cell_type": "markdown",
      "metadata": {
        "id": "YunA3N11wriT"
      },
      "source": [
        "**<font size='5'><u>Manipulate Dataframes</u>**</font> <br>\n",
        "\n",
        "Pandas has a large collection of methods to **manipulate DataFrames**. <br>\n",
        "They allow you to analyze missing values, sort columns, reset indexes, convert to numpy array, ...\n",
        "\n"
      ]
    },
    {
      "cell_type": "markdown",
      "metadata": {
        "id": "xNGDpFDiUmpy"
      },
      "source": [
        "| Pandas Function | Description | Parameters |\n",
        "|----------|-------------|------------|\n",
        "| `.value_counts()`| Count the number of rows with each unique variable value | `normalize`: normalize frequencies (bool) <br> `sort`: sort by frequencies |\n",
        "| `.sort_values()`| Order rows based on the values of one or more columns | `by`: column names to sort by <br> `ascending`: Way of sorting (bool) <br> `inplace`: Perform operation in place (bool) |\n",
        "| `.drop()`| Drop rows or columns from a dataframe | `index`: indexes to drop <br> `columns`: columns to drop |\n",
        "| `.reset.index()`| Reset index to row numbers, moving index to columns | `drop`: Keep or drop previous index to df (bool) <br> `inplace`: Apply modifications directly to df (bool) |\n",
        "| `.to_numpy()` | Convert a DataFrame to a NumPy array | `dtype`: Dtype to pass to the array |\n",
        "| `.to_list()` | Convert a single column of a DataFrame to a list |  |\n",
        "| `.astype()` | Cast a pandas object (series, dataframe) to a specified dtype | `dtype`: Dtype to cast <br> `copy`: Apply the transformation directly to the object (True) or don't (False)\n"
      ]
    },
    {
      "cell_type": "code",
      "execution_count": null,
      "metadata": {
        "colab": {
          "base_uri": "https://localhost:8080/"
        },
        "executionInfo": {
          "elapsed": 14,
          "status": "ok",
          "timestamp": 1692394531592,
          "user": {
            "displayName": "laurene david",
            "userId": "12504925674923465673"
          },
          "user_tz": -120
        },
        "id": "JNqFtxpJVXKw",
        "outputId": "3e545e15-e82b-4594-feb9-835b0f804927",
        "trusted": true
      },
      "outputs": [],
      "source": [
        "# Get the number of players for each possible value of \"main_position\"\n",
        "players_df[\"main_position\"].value_counts()"
      ]
    },
    {
      "cell_type": "code",
      "execution_count": null,
      "metadata": {
        "trusted": true
      },
      "outputs": [],
      "source": [
        "# Drop the \"Gender\" and \"Year\" columns\n",
        "players_df.drop(columns=[\"Gender\",\"Year\"]) "
      ]
    },
    {
      "cell_type": "markdown",
      "metadata": {},
      "source": [
        "**Remark**: This doesn't drop the columns in the dataframe definetly. <br>\n",
        "If you want these modifications to be saved to `players_df`, you need to add the `inplace=True` parameter."
      ]
    },
    {
      "cell_type": "code",
      "execution_count": null,
      "metadata": {
        "trusted": true
      },
      "outputs": [],
      "source": [
        "# Select the \"Year\", \"main_position\" and \"wage_eur\" columns then sort values by \"Year\" \n",
        "players_df[[\"Year\", \"main_position\", \"wage_eur\"]].sort_values(by=[\"Year\"])"
      ]
    },
    {
      "cell_type": "code",
      "execution_count": null,
      "metadata": {
        "trusted": true
      },
      "outputs": [],
      "source": [
        "# Reset the index of the previous dataframe\n",
        "players_df[[\"Year\", \"main_position\", \"wage_eur\"]].sort_values(by=[\"Year\"]).reset_index(drop=True) # drop = True to not add an \"index\" column "
      ]
    },
    {
      "cell_type": "markdown",
      "metadata": {},
      "source": [
        "For **missing values**, you can use the following functions: \n",
        "\n",
        "| Pandas Function | Description | Parameters |\n",
        "|----------|-------------|------------|\n",
        "| `.isna()` | Detect missing values. True if the value is NaN, False if it isn't | |<>\n",
        "| `.dropna()`| Remove missing values (NaN) | `axis`: drop rows with NAN (0) or columns (1) <br> `subset`: columns to drop NaN from |\n",
        "| `.fillna()` | Fill NaN values with a specific value | `value`: Value to replace NaN (scalar, dict, df)"
      ]
    },
    {
      "cell_type": "code",
      "execution_count": null,
      "metadata": {
        "trusted": true
      },
      "outputs": [],
      "source": [
        "# Compute the number of missing values per column\n",
        "players_df.isna().sum()"
      ]
    },
    {
      "cell_type": "code",
      "execution_count": null,
      "metadata": {
        "colab": {
          "base_uri": "https://localhost:8080/",
          "height": 206
        },
        "executionInfo": {
          "elapsed": 297,
          "status": "ok",
          "timestamp": 1692394531877,
          "user": {
            "displayName": "laurene david",
            "userId": "12504925674923465673"
          },
          "user_tz": -120
        },
        "id": "Dsz2BaJ5JHd9",
        "outputId": "796ec16c-f40d-4e2b-c15a-69750231f3fc",
        "trusted": true
      },
      "outputs": [],
      "source": [
        "# Fill the missing values of \"Attacking\" with 50\n",
        "players_df[\"attacking\"].fillna(50) # add inplace=True to modify the column directly"
      ]
    },
    {
      "cell_type": "markdown",
      "metadata": {},
      "source": [
        "<u>**<font size='5'>Indexing a DataFrame**</font> </u><br>\n",
        "\n",
        "DataFrames are ordered collections of data. <br>\n",
        "They can be filtered using label and integer-based indexing (`.loc[]`,`.iloc[]`)"
      ]
    },
    {
      "cell_type": "markdown",
      "metadata": {
        "id": "vmLIDLFfiXFL"
      },
      "source": [
        "**`df.loc[conditional_statement]`** <br>\n",
        "\n",
        "**Select a group of rows with a conditional statement** <br>\n",
        "- The conditional statement should apply to columns (and not rows) <br>\n",
        "- The first index refers to rows, the second refers to columns\n"
      ]
    },
    {
      "cell_type": "code",
      "execution_count": null,
      "metadata": {
        "colab": {
          "base_uri": "https://localhost:8080/",
          "height": 174
        },
        "executionInfo": {
          "elapsed": 295,
          "status": "ok",
          "timestamp": 1692394531877,
          "user": {
            "displayName": "laurene david",
            "userId": "12504925674923465673"
          },
          "user_tz": -120
        },
        "id": "aEwY63TPqwhy",
        "outputId": "b9e7ff5b-8b8e-4d49-fce4-bd2019c96f53",
        "trusted": true
      },
      "outputs": [],
      "source": [
        "# Select players whose national team is Germany\n",
        "players_df.loc[players_df[\"national_team\"]==\"Germany\"] "
      ]
    },
    {
      "cell_type": "markdown",
      "metadata": {},
      "source": [
        "Bitwise Operators can also be used to add multiple statements to `.loc[]`.\n",
        "- `&`: AND\n",
        "- `|`: OR\n",
        "- `~`: NOT"
      ]
    },
    {
      "cell_type": "code",
      "execution_count": null,
      "metadata": {
        "colab": {
          "base_uri": "https://localhost:8080/",
          "height": 112
        },
        "executionInfo": {
          "elapsed": 33,
          "status": "ok",
          "timestamp": 1692394531878,
          "user": {
            "displayName": "laurene david",
            "userId": "12504925674923465673"
          },
          "user_tz": -120
        },
        "id": "aSg0YbuV3eJG",
        "outputId": "4fe688cb-9459-478f-d173-c39bd3befc71",
        "trusted": true
      },
      "outputs": [],
      "source": [
        "# Select players whose national team is Germany and with a age above 30 years old\n",
        "players_df.loc[(players_df[\"national_team\"]==\"Germany\") & (players_df[\"age\"]>30)]"
      ]
    },
    {
      "cell_type": "markdown",
      "metadata": {
        "id": "FmmGCOlfqruT"
      },
      "source": [
        "**`df.iloc[row_indices,column_indices]`**\n",
        "\n",
        "**Integer-location based indexing for selection by position.** <br> It only accepts integer indices for rows and columns."
      ]
    },
    {
      "cell_type": "code",
      "execution_count": null,
      "metadata": {
        "colab": {
          "base_uri": "https://localhost:8080/",
          "height": 206
        },
        "executionInfo": {
          "elapsed": 33,
          "status": "ok",
          "timestamp": 1692394531878,
          "user": {
            "displayName": "laurene david",
            "userId": "12504925674923465673"
          },
          "user_tz": -120
        },
        "id": "FjS8u6lWqw3R",
        "outputId": "b620da1c-ef06-41e2-ee6e-4dd3be12b7ee",
        "trusted": true
      },
      "outputs": [],
      "source": [
        "# Select the first 10 rows of the dataframe\n",
        "players_df.iloc[:10,:]"
      ]
    },
    {
      "cell_type": "markdown",
      "metadata": {
        "id": "n7TW2g77Bvpd"
      },
      "source": [
        "**<font size='5'><u>Modify DataFrames</u>**</font> <br>\n",
        "\n",
        "Series and DataFrames are mutable objects in Python. <br>\n",
        "You can easily **add new columns** or **modify** existing columns to these objects. <br>\n",
        "- Add new columns with `df[new_column_name] = ...`\n",
        "- Modify an existing column with `df[column_name] = df[column_name]...`"
      ]
    },
    {
      "cell_type": "markdown",
      "metadata": {
        "id": "23G6H15F5lsX"
      },
      "source": [
        "**`.apply()`** <br>\n",
        "**Apply a function a function to a pandas series/dataframe.**\n",
        "<br>\n",
        "Lambda functions are commonly used with the apply method but you can use any type of function."
      ]
    },
    {
      "cell_type": "code",
      "execution_count": null,
      "metadata": {
        "id": "njy8KDf-l12T",
        "trusted": true
      },
      "outputs": [],
      "source": [
        "# Add a new column with the players height in foot (foot = centimeters/30.48)\n",
        "players_df[\"height_foot\"] = players_df[\"height_cm\"].apply(lambda x: x/30.48) # changes saved to the dataframe"
      ]
    },
    {
      "cell_type": "code",
      "execution_count": null,
      "metadata": {
        "colab": {
          "base_uri": "https://localhost:8080/",
          "height": 206
        },
        "executionInfo": {
          "elapsed": 26,
          "status": "ok",
          "timestamp": 1692394531879,
          "user": {
            "displayName": "laurene david",
            "userId": "12504925674923465673"
          },
          "user_tz": -120
        },
        "id": "fvWwXHi244a3",
        "outputId": "23093022-3037-4cdf-c1d8-fb30cee68194",
        "trusted": true
      },
      "outputs": [],
      "source": [
        "players_df[\"height_foot\"]"
      ]
    },
    {
      "cell_type": "markdown",
      "metadata": {},
      "source": [
        "**<font size='5'><u>Summarize a DataFrame</u>**</font> <br>\n"
      ]
    },
    {
      "cell_type": "markdown",
      "metadata": {
        "id": "SjZP7lnWt-nn"
      },
      "source": [
        "**`.sum()`, `.mean()`, `.max()`,`.median()`, `.size()`...** <br>\n",
        "**Use aggregation functions to obtain summary statistics** <br>\n",
        "\n",
        "You can use built-in aggregation functions (such as `.sum`, `.mean`, `.max`, etc.). <br>\n",
        "You can also use `.agg()` to apply different aggregation functions to variables.\n"
      ]
    },
    {
      "cell_type": "code",
      "execution_count": null,
      "metadata": {
        "id": "oWjmMvQklUW5",
        "trusted": true
      },
      "outputs": [],
      "source": [
        "# Compute the average value of \"defending\"\n",
        "players_df[\"defending\"].mean()"
      ]
    },
    {
      "cell_type": "markdown",
      "metadata": {},
      "source": [
        "You can also use `.describe()` to get summary statistics on int or float variables.\n",
        "\n",
        "*To select columns with a specific dtype, you can use `.select_dtypes(include=)`.*"
      ]
    },
    {
      "cell_type": "code",
      "execution_count": null,
      "metadata": {
        "colab": {
          "base_uri": "https://localhost:8080/"
        },
        "executionInfo": {
          "elapsed": 276,
          "status": "ok",
          "timestamp": 1692394532137,
          "user": {
            "displayName": "laurene david",
            "userId": "12504925674923465673"
          },
          "user_tz": -120
        },
        "id": "rzYYySt4lwWN",
        "outputId": "85ad557b-d7bf-4a20-e111-bcb6b560f797",
        "trusted": true
      },
      "outputs": [],
      "source": [
        "# Compute summary statistics for int and float variables\n",
        "players_df_numerical = players_df.select_dtypes(include=[int, float]) # select columns with int or float values\n",
        "players_df_numerical.describe()"
      ]
    },
    {
      "cell_type": "markdown",
      "metadata": {
        "id": "h1eaS4x4uqjZ"
      },
      "source": [
        "**`.groupby()`** <br>\n",
        "\n",
        "**Group rows of a DataFrame by one or more columns and perform aggregations.**\n",
        "\n",
        "This method allows you to perform summary statistics on groups of rows. <br>\n",
        "It is usually combined with built-in statistical operations such as `.sum()`, `.mean()`,...\n"
      ]
    },
    {
      "cell_type": "code",
      "execution_count": null,
      "metadata": {
        "colab": {
          "base_uri": "https://localhost:8080/",
          "height": 174
        },
        "executionInfo": {
          "elapsed": 14,
          "status": "ok",
          "timestamp": 1692394532138,
          "user": {
            "displayName": "laurene david",
            "userId": "12504925674923465673"
          },
          "user_tz": -120
        },
        "id": "6Fmk-dCJl8Y2",
        "outputId": "ae36cd69-00d5-460d-c2f0-dff4613e32e2",
        "trusted": true
      },
      "outputs": [],
      "source": [
        "# Compute the average defending skills per league_country\n",
        "players_df.groupby(\"league_country\")[\"defending\"].mean()"
      ]
    },
    {
      "cell_type": "markdown",
      "metadata": {},
      "source": [
        "You can group the dataframe based on more than one columns."
      ]
    },
    {
      "cell_type": "code",
      "execution_count": null,
      "metadata": {
        "colab": {
          "base_uri": "https://localhost:8080/",
          "height": 237
        },
        "executionInfo": {
          "elapsed": 13,
          "status": "ok",
          "timestamp": 1692394532138,
          "user": {
            "displayName": "laurene david",
            "userId": "12504925674923465673"
          },
          "user_tz": -120
        },
        "id": "6ot5k3NzmMLV",
        "outputId": "f5ff34aa-4db1-4af8-8e30-5ec4c52fc95a",
        "trusted": true
      },
      "outputs": [],
      "source": [
        "# Compute the average defending skills per league_country and Year\n",
        "players_df.groupby([\"league_country\", \"Year\"])[\"defending\"].mean()"
      ]
    },
    {
      "cell_type": "markdown",
      "metadata": {},
      "source": [
        "**<font size='5'><u>Concatenate DataFrames</u>**</font> <br>\n",
        "\n",
        "\n",
        "**`.concat()`** <br>\n",
        "\n",
        "**Concatenate two dataframes along a common axis (rows or columns).** <br>\n",
        "The `axis` parameters allows you to choose which type of concatenation you want applied.\n",
        "- Vertical (`axis = 0`): Concatenate dataframes vertically along the rows.\n",
        "- Horizontal (`axis = 1`): Concatenates fataframes horizontally along the columns\n",
        "\n",
        "\n",
        "<br>\n",
        "\n",
        "<img src = https://miro.medium.com/v2/resize:fit:2000/1*NLnoAF5uOSBC2Y7IuzfM_Q.png width = \"800\" height = \"400\" >"
      ]
    },
    {
      "cell_type": "code",
      "execution_count": null,
      "metadata": {
        "trusted": true
      },
      "outputs": [],
      "source": [
        "# First dataframe\n",
        "df3 = pd.DataFrame({'Name': ['Alice', 'Bob'],\n",
        "                    'Age': [25, 32]})\n",
        "df3"
      ]
    },
    {
      "cell_type": "code",
      "execution_count": null,
      "metadata": {
        "trusted": true
      },
      "outputs": [],
      "source": [
        "# Second dataframe\n",
        "df4 = pd.DataFrame({'Name': ['Charlie', 'David'],\n",
        "                    'Age': [28, 21]})\n",
        "df4"
      ]
    },
    {
      "cell_type": "code",
      "execution_count": null,
      "metadata": {
        "trusted": true
      },
      "outputs": [],
      "source": [
        "# Concatenate DataFrames vertically (along the rows)\n",
        "concatenated = pd.concat([df3, df4])\n",
        "concatenated"
      ]
    },
    {
      "cell_type": "markdown",
      "metadata": {
        "id": "0q2fTiHACKTq"
      },
      "source": [
        "**<font size='5'>Let's recap on Pandas:**</font> <br>\n",
        "- Pandas Data structures: `pd.DataFrame()`, `pd.Series()`\n",
        "- Pandas dtypes: `int64`, `float64`, `object`, `datetime64`, ...\n",
        "- Load/Save to csv: `.read_csv()`, `.to_csv()`\n",
        "- Index/Filter a dataframe: `[]`, `.loc[]`, `.iloc[]`\n",
        "- Concatenate a dataframe: `.concat()`\n",
        "- Summarize a dataframe: `.groupby()`, `.agg()`, `.mean()` ...\n",
        "- Modify/Reshape a DataFrame: `.apply()`, `.melt()`\n",
        "\n",
        "You can find out more about pandas features in this [cheatsheet](https://pandas.pydata.org/Pandas_Cheat_Sheet.pdf). "
      ]
    },
    {
      "cell_type": "markdown",
      "metadata": {
        "id": "L2r69BjbwUBB"
      },
      "source": [
        "## <font color='#023F7C'>**2.3 Data visualization with Matplotlib & Seaborn**</font>\n",
        "\n",
        "Python has many popular libraries to create visualizations. <br>\n",
        "Today we will focus on two of its most popular libraries, **Matplotlib** and **Seaborn**.\n",
        "\n",
        "\n"
      ]
    },
    {
      "cell_type": "markdown",
      "metadata": {
        "id": "-tbxBzQF9Zsm"
      },
      "source": [
        "**<font size='5'><u>Plots with Matplotlib</u>**</font> <br>\n",
        "\n",
        "Matplotlib is a popular data visualization library with a large collection of plotting functions. <br>\n",
        "It has many tools to customize plots with titles, legends, labels,...\n",
        "- Plotting functions/tools in `matplotlib.pyplot` submodule (alias `plt`)\n",
        "- Libraries built on top of Matplotlib: Seaborn, Pandas (plot function)\n"
      ]
    },
    {
      "cell_type": "code",
      "execution_count": null,
      "metadata": {
        "id": "QxJA9aPfnIDi",
        "trusted": true
      },
      "outputs": [],
      "source": [
        "import matplotlib.pyplot as plt # pyplot = submodule of matplotlib"
      ]
    },
    {
      "cell_type": "markdown",
      "metadata": {
        "id": "Gy49JM9O8QPG"
      },
      "source": [
        "Matplotlib creates plots by drawing a **Figure**, an overall container for the plot. <br>\n",
        "Within a Figure, you can add axes, data points, a title, etc..\n",
        "\n",
        "<br>\n",
        "\n",
        "| Component | Description | Function |\n",
        "|----------| -------------|---------------------|\n",
        "| Figure | Top-level container that holds all the elements of a plot <br> Implicitly called when you call a plot function (not mandatory)  | `plt.figure()`|\n",
        "| Plot function | Create various kinds of plots (line, scatter, bar,...) | `plt.plot()`, `plt.scatter()`, <br> `plt.bar()`, `plt.hist()`... |\n",
        "| Legend | Provide additional information about plotted data | `plt.legend()` |\n",
        "| Title | Provide a title to the plot | `plt.title()`|\n",
        "| Axis labels | Add labels for the x and y axis | `plt.xlabel()`, `plt.ylabel()` |\n",
        "| Show | Display all open figures (not mandatory) | `plt.show()` |\n",
        "\n",
        "<br>\n",
        "\n",
        "<img src = https://matplotlib.org/3.1.0/_images/anatomy.png width = \"500\" height = \"500\" >"
      ]
    },
    {
      "cell_type": "code",
      "execution_count": null,
      "metadata": {
        "trusted": true
      },
      "outputs": [],
      "source": [
        "# Plot the distribution of player wages \n",
        "\n",
        "plt.hist(x=players_df[\"wage_eur\"]) # create the histogram\n",
        "plt.title(\"Distribution of player wages\") # add a title\n",
        "plt.xlabel(\"Player wages\")\n",
        "plt.show()"
      ]
    },
    {
      "cell_type": "code",
      "execution_count": null,
      "metadata": {
        "colab": {
          "base_uri": "https://localhost:8080/",
          "height": 472
        },
        "executionInfo": {
          "elapsed": 331,
          "status": "ok",
          "timestamp": 1692394532457,
          "user": {
            "displayName": "laurene david",
            "userId": "12504925674923465673"
          },
          "user_tz": -120
        },
        "id": "5sPlbiZi8VYe",
        "outputId": "a8c2d0ce-faaf-4c46-f9c2-85d32d743a93",
        "trusted": true
      },
      "outputs": [],
      "source": [
        "# Create a scatter plot with players height (in cm) and movement \n",
        "\n",
        "plt.figure(figsize=(10,6)) # Modify the size of the plot\n",
        "plt.scatter(x=players_df[\"height_cm\"], y=players_df[\"movement\"]) # Build scatter plot \n",
        "plt.xlabel(\"Height (in cm)\") # add label for x axis\n",
        "plt.ylabel(\"Movement score\") # add label for y axis\n",
        "plt.title(\"Plot of height and movement score\") # add title\n",
        "plt.show()"
      ]
    },
    {
      "cell_type": "markdown",
      "metadata": {
        "id": "jaXIwYZzwGsm"
      },
      "source": [
        "Most of matplotlib's components can be used with other data vizualisation packages (*Seaborn* for example) to customize plots. <br>"
      ]
    },
    {
      "cell_type": "markdown",
      "metadata": {
        "id": "XfuvPSPm-9FO"
      },
      "source": [
        "**<font size='5'>Plots with Seaborn**</font> <br>\n",
        "\n",
        "**Seaborn** is a high-level plotting library built on top of Matplotlib. <br>\n",
        "- Simpler syntax than matplotlib\n",
        "- Less customizable but offers improved visual aesthetics (many themes available)\n",
        "- Created for statistical data visualization (kdeplot, histplot,...)\n",
        "\n",
        "<img src = https://miro.medium.com/v2/resize:fit:1107/1*oyX3i6zDjjvdy2IVRa-oAw.png width = \"500\" height = \"300\" >"
      ]
    },
    {
      "cell_type": "code",
      "execution_count": null,
      "metadata": {
        "trusted": true
      },
      "outputs": [],
      "source": [
        "# Install a package on JupyterLite\n",
        "# import piplite\n",
        "# await piplite.install('seaborn')"
      ]
    },
    {
      "cell_type": "code",
      "execution_count": null,
      "metadata": {
        "id": "pIKPUI-6nMMS",
        "trusted": true
      },
      "outputs": [],
      "source": [
        "import seaborn as sns"
      ]
    },
    {
      "cell_type": "markdown",
      "metadata": {
        "id": "hKBv9LRUCC5Y"
      },
      "source": [
        "Seaborn's plotting functions have a **dataset-oriented API**. <br>\n",
        "Seaborn takes dataframes as input to create graphs.\n",
        "\n",
        "Here are commonly used parameters in seaborn plots.\n",
        "- `data`: Input dataframe to create plot\n",
        "- `x`, `y`: Variables to use as x, y axis\n",
        "- `hue`, `fill`: Grouping/id variable that will produce plots with different colors"
      ]
    },
    {
      "cell_type": "code",
      "execution_count": null,
      "metadata": {
        "id": "iHkwZIsgJZb6",
        "trusted": true
      },
      "outputs": [],
      "source": [
        "# Plot the distribution of players' skill score using sns.kdeplot\n",
        "sns.kdeplot(data=players_df, x=\"skill\", fill=\"skill\")\n",
        "plt.title(\"Distribution of players skills\")\n",
        "plt.show()"
      ]
    },
    {
      "cell_type": "code",
      "execution_count": null,
      "metadata": {
        "colab": {
          "base_uri": "https://localhost:8080/",
          "height": 472
        },
        "executionInfo": {
          "elapsed": 312,
          "status": "ok",
          "timestamp": 1692394533768,
          "user": {
            "displayName": "laurene david",
            "userId": "12504925674923465673"
          },
          "user_tz": -120
        },
        "id": "kjiVLueNIIpt",
        "outputId": "3e509e94-76f7-4c3b-ac84-73d0bbf855f0",
        "trusted": true
      },
      "outputs": [],
      "source": [
        "# Create a bar plot with the average height (in cm) of players per \"main_position\"\n",
        "\n",
        "# Step 1: Build a summary dataframe to compute the median age per main position\n",
        "df_height_position = players_df.groupby(\"main_position\")[\"height_cm\"].mean()\n",
        "df_height_position = df_height_position.to_frame().reset_index()\n",
        "df_height_position"
      ]
    },
    {
      "cell_type": "markdown",
      "metadata": {},
      "source": [
        "*`.to_frame()` was used to convert the pandas series into a dataframe.* \n",
        "\n",
        "*`reset.index` was used create a column for \"main_position\", which was originally in the index.*"
      ]
    },
    {
      "cell_type": "code",
      "execution_count": null,
      "metadata": {
        "trusted": true
      },
      "outputs": [],
      "source": [
        "# Step 2: Create a bar plot with the df_count_position\n",
        "sns.barplot(data=df_height_position, x=\"main_position\", y=\"height_cm\", hue=\"main_position\")\n",
        "plt.title(\"Average height per player position\")\n",
        "plt.show()"
      ]
    },
    {
      "cell_type": "markdown",
      "metadata": {
        "id": "PyufvdQ4RAqa"
      },
      "source": [
        "Python has other **data visualization frameworks** for more advanced visualization tasks\n",
        "- **Plotly**: Data visualization library with interactive plots\n",
        "- **[Dash](https://plotly.com/examples/)/[Streamlit](https://streamlit.io/gallery)**: Build interactive web applications and data dashboards\n",
        "\n"
      ]
    },
    {
      "cell_type": "markdown",
      "metadata": {},
      "source": [
        "##  <font color='#023F7C'>**2.4 Training exercices**</font>\n",
        "\n",
        "This section contains exercices for you to apply what you have learned about **numpy** and **pandas** and **matplotlib** in today's course. <br>\n",
        "The `players_df` dataframe with football player data will be used for these exercices.\n",
        "\n",
        "<br>\n",
        "\n",
        "<img src = https://cdn-icons-png.flaticon.com/512/1099/1099672.png width = \"200\" height = \"200\" >\n"
      ]
    },
    {
      "cell_type": "code",
      "execution_count": null,
      "metadata": {
        "trusted": true
      },
      "outputs": [],
      "source": [
        "players_df"
      ]
    },
    {
      "cell_type": "markdown",
      "metadata": {},
      "source": [
        "<br>\n",
        "\n",
        "<font color='#023F7C' size=4>**Question 1 📝**</font><br>\n",
        "The `players_df` dataframe has missing values in two variables:\n",
        "- Replace them in `attacking` with the variable's mean value \n",
        "- Replace them in `preferred_foot` with the most frequent value \n",
        "\n",
        "*Make sure these modifications are saved to the dataframe*"
      ]
    },
    {
      "cell_type": "code",
      "execution_count": null,
      "metadata": {
        "trusted": true
      },
      "outputs": [],
      "source": [
        "# Replace the missing values in \"attacking\"\n"
      ]
    },
    {
      "cell_type": "code",
      "execution_count": null,
      "metadata": {
        "trusted": true
      },
      "outputs": [],
      "source": [
        "# Replace the missing values in \"preferred_foot\"\n"
      ]
    },
    {
      "cell_type": "markdown",
      "metadata": {},
      "source": [
        "<br>\n",
        "\n",
        "<font color='#023F7C' size=4>**Question 2 📝**</font><br>\n",
        "Build a dataframe with the frequency of each country in `league_country` <br>\n",
        "Then, use this dataframe to build a barplot.\n",
        "\n",
        "*Hint: You can convert a Series to a DataFrame using `.to_frame()`*"
      ]
    },
    {
      "cell_type": "code",
      "execution_count": null,
      "metadata": {
        "trusted": true
      },
      "outputs": [],
      "source": [
        "# Build the dataframe\n"
      ]
    },
    {
      "cell_type": "code",
      "execution_count": null,
      "metadata": {
        "trusted": true
      },
      "outputs": [],
      "source": [
        "# Create the bar plot \n"
      ]
    },
    {
      "cell_type": "markdown",
      "metadata": {},
      "source": [
        "<br>\n",
        "\n",
        "<font color='#023F7C' size=4>**Question 3 📝**</font><br>\n",
        "Do the same thing as Question 2 but plot the percentage (%) instead of the frequency.\n",
        "\n",
        "*Hint: You can create a new column with the percentage values*"
      ]
    },
    {
      "cell_type": "code",
      "execution_count": null,
      "metadata": {
        "trusted": true
      },
      "outputs": [],
      "source": [
        "# Add a percentage column to the dataframe\n"
      ]
    },
    {
      "cell_type": "code",
      "execution_count": null,
      "metadata": {
        "trusted": true
      },
      "outputs": [],
      "source": [
        "# Create a bar plot with the percentage column\n"
      ]
    },
    {
      "cell_type": "markdown",
      "metadata": {},
      "source": [
        "<br>\n",
        "\n",
        "<font color='#023F7C' size=4>**Question 4 📝**</font><br>\n",
        "Remove players/rows from `players_df` whose wage is above the third quartile (75%) of `wage_eur`."
      ]
    },
    {
      "cell_type": "code",
      "execution_count": null,
      "metadata": {
        "trusted": true
      },
      "outputs": [],
      "source": [
        "# Get the third quartile of the wage_eur column\n"
      ]
    },
    {
      "cell_type": "code",
      "execution_count": null,
      "metadata": {
        "trusted": true
      },
      "outputs": [],
      "source": [
        "# Remove outliers from players_df\n"
      ]
    },
    {
      "cell_type": "markdown",
      "metadata": {},
      "source": [
        "<br>\n",
        "\n",
        "<font color='#023F7C' size=4>**Question 5 📝**</font><br>\n",
        "Create a dataframe with the average wage of players based on `Gender` and `Year`. <br>\n",
        "Then, plot the average wage of players based on Gender and Year"
      ]
    },
    {
      "cell_type": "code",
      "execution_count": null,
      "metadata": {
        "trusted": true
      },
      "outputs": [],
      "source": [
        "# Create the dataframe\n"
      ]
    },
    {
      "cell_type": "code",
      "execution_count": null,
      "metadata": {
        "trusted": true
      },
      "outputs": [],
      "source": [
        "# Plot the average wage of players based on Gender and Year\n"
      ]
    }
  ],
  "metadata": {
    "colab": {
      "provenance": []
    },
    "kernelspec": {
      "display_name": "venv_bootcamp",
      "language": "python",
      "name": "python3"
    },
    "language_info": {
      "codemirror_mode": {
        "name": "ipython",
        "version": 3
      },
      "file_extension": ".py",
      "mimetype": "text/x-python",
      "name": "python",
      "nbconvert_exporter": "python",
      "pygments_lexer": "ipython3",
      "version": "3.9.0"
    }
  },
  "nbformat": 4,
  "nbformat_minor": 4
}

{
 "cells": [
  {
   "cell_type": "markdown",
   "metadata": {
    "id": "0TApxwvvPfd1"
   },
   "source": [
    "# <font color=#023F7C> **Data Visualization** </font>\n",
    "\n",
    "<font color=#023F7C>**Hi! PARIS DataBootcamp 2024 🚀**</font> <br>\n",
    "\n",
    "\n",
    "<img src = https://www.hi-paris.fr/wp-content/uploads/2020/09/logo-hi-paris-retina.png width = \"300\" height = \"200\" >\n",
    "\n",
    "**Name**: ...           <br>\n",
    "**School**: ...         <br>\n",
    "**Group number**: ...    <br>\n",
    "**Track**: ..."
   ]
  },
  {
   "cell_type": "markdown",
   "metadata": {},
   "source": [
    "**<font size='4'><u>Goal of this practical session</u>**</font> <br>\n",
    "\n",
    "The goal of this practical session is create plots using the olympic games data you cleaned during the Data Cleaning practical session. <br>These plots should allow you to discover and visualize interesting patterns in the data."
   ]
  },
  {
   "cell_type": "markdown",
   "metadata": {},
   "source": [
    "**<font size='4'><u>What is Data visualization ? 📝</u>**</font> <br>\n",
    "\n",
    "**Data visualization** is the representation of data and information in graphical or visual formats. <br>\n",
    "It involves creating visualizations such as charts, graphs, maps, and other visual elements to help understand patterns, trends, and relationships within the data.\n",
    "\n",
    "Data visualization is a fundamental component of **Exploratory Data Analysis** (EDA). It is often used for:\n",
    "- **Data Understanding**: Data visualization provides a way to quickly grasp the distribution, central tendency, dispersion, and other key characteristics of the data. By visualizing the data, analysts can detect outliers, gaps, clusters, and potential issues that might not be immediately apparent from the raw data.\n",
    "- **Pattern Discovery**: Visualizations help to identify patterns and trends that might not be obvious in tabular or raw data formats. Patterns that emerge from visualizations can lead to hypotheses or guide further analysis.\n",
    "- **Relationship Exploration**: Visualization can reveal relationships between variables, such as correlations or dependencies, which can be vital for understanding how different factors interact with each other."
   ]
  },
  {
   "cell_type": "markdown",
   "metadata": {},
   "source": [
    "**<font size='4'><u>Bootcamp deliverables 💯</u>**</font> <br>\n",
    "\n",
    "Send both the notebooks and the slides at `data-event@hi-paris.fr`\n",
    "\n",
    "- <u>**Friday 12:30 PM**</u>: <br> **Send us the \"Data visualisation\" and \"Machine Learning, Explainability and Deep Learning\" notebooks (no need to send us data cleaning)** \n",
    "    - **Each group member should send his own notebooks** (we won't accept one notebook per group)\n",
    "    - Don't forget to complete the start of the notebook with your information (name, school, group number and track)\n",
    "    \n",
    "    <br>\n",
    "    \n",
    "- <u>**Friday 2:30PM**</u>: <br>**Send us the group slides**<br>\n",
    "    - You can send us a single powerpoint per group (no need to send us one per group member)\n",
    "    - Don't forget to add your group number as well as who is in your group (name, school and track) to the slides"
   ]
  },
  {
   "cell_type": "markdown",
   "metadata": {
    "id": "ovztwlxNPfd4"
   },
   "source": [
    "**<font size='4'><u>Before you start to working on this notebook ⚠️</u>**</font> <br>\n",
    "\n",
    "Please download/copy this notebook from `hfactory_magic_folders\\course` and drop it into your own directory `my_work` on HFactory. <br>\n",
    "If you don't, you won't be able to save the modifications you've made on this notebook."
   ]
  },
  {
   "cell_type": "code",
   "execution_count": null,
   "metadata": {
    "executionInfo": {
     "elapsed": 5581,
     "status": "ok",
     "timestamp": 1723468115320,
     "user": {
      "displayName": "Pierre-antoine AMIAND-LEROY",
      "userId": "12056388955665945864"
     },
     "user_tz": -120
    },
    "id": "69uD-ifouERt",
    "tags": []
   },
   "outputs": [],
   "source": [
    "import pandas as pd\n",
    "import numpy as np\n",
    "import plotly.express as px\n",
    "import matplotlib.pyplot as plt\n",
    "import seaborn as sns\n",
    "\n",
    "pd.set_option('display.max_columns', None) #Show all columns"
   ]
  },
  {
   "cell_type": "markdown",
   "metadata": {
    "id": "69ibJQJSxzrp"
   },
   "source": [
    "## 1. Import the cleaned data\n",
    "\n",
    "\n"
   ]
  },
  {
   "cell_type": "markdown",
   "metadata": {
    "id": "-zNYENe5Pfd7"
   },
   "source": [
    "**Question 1:** <br>\n",
    "**Load the dataframe you cleaned in the `Data_cleaning.ipynb` notebook and saved as `athlete_events_clean.csv`**\n"
   ]
  },
  {
   "cell_type": "markdown",
   "metadata": {},
   "source": [
    "*If you haven't finished the data cleaning notebook, please go back to it before starting this practical session. <br> Don't forget to also save the cleaned dataset, as you will need for this session.*\n",
    "\n",
    "*If you are having **difficulties with data cleaning**, you can run the following two notebook cells loading a clean dataset. <br>\n",
    "These cells will load the original dataset as `dataset` and clean it using the `data_preparation` and `preparation` functions.<br>*"
   ]
  },
  {
   "cell_type": "code",
   "execution_count": null,
   "metadata": {
    "id": "nCjj8L45ZgM1",
    "tags": []
   },
   "outputs": [],
   "source": [
    "# Run the following two cells if you don't want to or can't use the dataframe you cleaned in Monday's notebook.\n",
    "\n",
    "def data_preparation(path=r\"data/athlete_events.csv\"):\n",
    "  dataset = pd.read_csv(path)\n",
    "  dataset[\"Medal\"] = dataset[\"Medal\"].fillna(\"None\")\n",
    "  dataset = dataset.dropna(subset=['Height','Weight']).reset_index(drop=True)\n",
    "  fill_age = int(dataset[\"Age\"].mean())\n",
    "  dataset[\"Age\"] = dataset[\"Age\"].fillna(fill_age)\n",
    "  return dataset\n",
    "\n",
    "dataset = data_preparation()"
   ]
  },
  {
   "cell_type": "code",
   "execution_count": null,
   "metadata": {
    "id": "MFJqFSv2xzWW",
    "tags": []
   },
   "outputs": [],
   "source": [
    "def preparation(dataset):\n",
    "  # dataset = pd.read_csv(r\"data/athlete_events.csv\")\n",
    "  regions = pd.read_csv(r\"data/noc_regions.csv\")\n",
    "  dataset[\"Medal\"] = dataset[\"Medal\"].fillna(\"None\")\n",
    "  dataset = dataset.dropna(subset=['Height','Weight']).reset_index(drop=True)\n",
    "  fill_age = int(dataset[\"Age\"].mean())\n",
    "  dataset[\"Age\"] = dataset[\"Age\"].fillna(fill_age)\n",
    "\n",
    "  dict_regions = dict(zip(regions[\"NOC\"].to_list(), regions[\"region\"].to_list()))\n",
    "  countries = dataset[\"NOC\"].map(dict_regions)\n",
    "  dataset.insert(8, \"Country\", countries) ##Add other ? add beter ?\n",
    "  dict_host_country = {\n",
    "    \"Seoul\":\"South Korea\",\n",
    "    \"Barcelona\":\"Spain\",\n",
    "    \"Atlanta\":\"USA\",\n",
    "    \"Sydney\":\"Australia\",\n",
    "    \"Athina\":\"Greece\",\n",
    "    \"Beijing\":\"China\",\n",
    "    \"Melbourne\":\"Australia\",\n",
    "    \"Los Angeles\":'USA',\n",
    "    \"St. Louis\": 'USA',\n",
    "    \"Moskva\":\"Russia\",\n",
    "    \"Montreal\":\"Canada\",\n",
    "    \"Munich\" :\"Germany\",\n",
    "    \"Berlin\":\"Germany\",\n",
    "    \"Mexico City\":\"Mexico\",\n",
    "    \"Tokyo\":\"Japan\",\n",
    "    \"Roma\":\"Italy\",\n",
    "    \"Paris\":\"France\",\n",
    "    \"Helsinki\": \"Finland\",\n",
    "    \"Amsterdam\":\"Netherlands\",\n",
    "    \"Antwerpen\": \"Belgium\",\n",
    "    \"Stockholm\": \"Sweden\",\n",
    "    \"Rio de Janeiro\":\"Bresil\",\n",
    "    \"London\":\"UK\"}\n",
    "  dataset[\"Host_country\"] = dataset[\"City\"].map(dict_host_country)\n",
    "  dataset[\"Won_host_country\"] = dataset[\"Host_country\"] == dataset[\"Country\"]\n",
    "  dataset.reset_index(drop=True, inplace=True)\n",
    "  return dataset\n",
    "\n",
    "dataset = preparation(dataset)"
   ]
  },
  {
   "cell_type": "markdown",
   "metadata": {},
   "source": [
    "Don't run the previous three cells if you are using your own cleaned data. <br>\n",
    "Use the following cell to do so."
   ]
  },
  {
   "cell_type": "code",
   "execution_count": null,
   "metadata": {
    "tags": []
   },
   "outputs": [],
   "source": [
    "# Load your own clean data \n"
   ]
  },
  {
   "cell_type": "markdown",
   "metadata": {},
   "source": [
    "## 2. Create visualization plots"
   ]
  },
  {
   "cell_type": "markdown",
   "metadata": {
    "id": "B01ALIBXPfd8"
   },
   "source": [
    "**Question 2**: <br>\n",
    "**Display the pie chart of the proportion of each unique value of 'Medal' (print the %)** <br>\n",
    "\n",
    "*<u>Help</u>: Go to https://python-graph-gallery.com/pie-plot/ to find examples of pie plots.* <br>\n",
    "- *You can use Pandas' `.value_counts()` function to get the proportion of each unique value*\n",
    "- *You can use the parameter `autopct=\"%.2f%%\"` to get the percentage instead of the count in `plt.pie()`*\n",
    "- *You can also use pandas' `.plot.pie()` function to plot from a dataframe*"
   ]
  },
  {
   "cell_type": "code",
   "execution_count": null,
   "metadata": {
    "id": "F1ZRu8gqsaHG"
   },
   "outputs": [],
   "source": []
  },
  {
   "cell_type": "code",
   "execution_count": null,
   "metadata": {
    "id": "cmFqI0yIsaEa"
   },
   "outputs": [],
   "source": []
  },
  {
   "cell_type": "markdown",
   "metadata": {
    "id": "pjMtL3gZDFad"
   },
   "source": [
    "**Question 3**: <br>\n",
    "**Print the number of medal for each OG in Summer and after in Winter.**\n",
    "You can use 'sns.barplot'.\n",
    "\n",
    "First, you have to create a new column, \"has_medal\", which is equal to 1 if an athelte won a medal, 0 if not.\n",
    "\n",
    "(Optional question) : Show the labels of the bars with a 80° degree rotation\n",
    "\n",
    "\n"
   ]
  },
  {
   "cell_type": "code",
   "execution_count": null,
   "metadata": {
    "id": "KCqvroH7sccs"
   },
   "outputs": [],
   "source": []
  },
  {
   "cell_type": "code",
   "execution_count": null,
   "metadata": {},
   "outputs": [],
   "source": []
  },
  {
   "cell_type": "code",
   "execution_count": null,
   "metadata": {
    "id": "-N8I7bMKscPf"
   },
   "outputs": [],
   "source": []
  },
  {
   "cell_type": "markdown",
   "metadata": {
    "id": "fV7-yTWPPfd_"
   },
   "source": [
    "**Question 4**: <br>\n",
    "**Compute the correlation matrix of the numerical variables (int and float) in the dataframe** <br>\n",
    "**The, display this matrix with `sns.heatmap()`**\n",
    "\n",
    "*Note: A correlation is high when its above 0.7*\n",
    "- *You can use `numeric_only=True` to only use the numerical variables in `df.corr()`.*\n",
    "- *You can use `plt.figure(figsize=(30,20))` to get a larger display of the heatmap.*"
   ]
  },
  {
   "cell_type": "code",
   "execution_count": null,
   "metadata": {
    "id": "DjdXI0E9scMO"
   },
   "outputs": [],
   "source": []
  },
  {
   "cell_type": "code",
   "execution_count": null,
   "metadata": {
    "id": "LkMOGObpscJ4"
   },
   "outputs": [],
   "source": []
  },
  {
   "cell_type": "markdown",
   "metadata": {
    "id": "67ouHUc0Pfd_"
   },
   "source": [
    "**Did you identify highly correlated variables  ?**\n",
    "\n"
   ]
  },
  {
   "cell_type": "code",
   "execution_count": null,
   "metadata": {},
   "outputs": [],
   "source": []
  },
  {
   "cell_type": "markdown",
   "metadata": {
    "id": "GLdS5cn4vFeu"
   },
   "source": [
    "**Question 5**: <br>\n",
    "**Show the average number of medals won when a country hosts the Olympic Games and when it does not.** (No graph needed) <br>\n",
    "**But for this question, take only the summer Olympics after 1950.**\n",
    "\n"
   ]
  },
  {
   "cell_type": "code",
   "execution_count": null,
   "metadata": {
    "id": "yKiB7NH5se1A"
   },
   "outputs": [],
   "source": []
  },
  {
   "cell_type": "code",
   "execution_count": null,
   "metadata": {
    "id": "m4SnckBqseyA"
   },
   "outputs": [],
   "source": []
  },
  {
   "cell_type": "markdown",
   "metadata": {
    "id": "LBDtZTTRAaF6"
   },
   "source": [
    "**Question 5 bis**: <br>\n",
    " Why are the averages so high?\n",
    "\n"
   ]
  },
  {
   "cell_type": "code",
   "execution_count": null,
   "metadata": {
    "id": "jS4JnkNLsjfO"
   },
   "outputs": [],
   "source": []
  },
  {
   "cell_type": "markdown",
   "metadata": {
    "id": "ovRUQ_woBK5O"
   },
   "source": [
    "**Question 6** <br>\n",
    "**For each country, plot the average number of medals won when the country is a host and when it is not.** <br>\n",
    "**But for this question, take only the summer Olympics after 1950.**\n",
    "\n",
    "*Use sns.barplot() and the argument 'hue' (You can see the documentation)*"
   ]
  },
  {
   "cell_type": "code",
   "execution_count": null,
   "metadata": {
    "id": "Vu016yJDsixX"
   },
   "outputs": [],
   "source": []
  },
  {
   "cell_type": "markdown",
   "metadata": {
    "id": "l4yoRhLkBszr"
   },
   "source": [
    "**Question 6 bis** <br>\n",
    "**Do you see a problem with Sweden ?  Can you explain it ?**\n"
   ]
  },
  {
   "cell_type": "code",
   "execution_count": null,
   "metadata": {
    "id": "A-lalBWmsjJ9"
   },
   "outputs": [],
   "source": []
  },
  {
   "cell_type": "code",
   "execution_count": null,
   "metadata": {
    "id": "_8RdwuTMskMJ"
   },
   "outputs": [],
   "source": []
  },
  {
   "cell_type": "code",
   "execution_count": null,
   "metadata": {
    "id": "1QyEt6yJskJ2"
   },
   "outputs": [],
   "source": []
  },
  {
   "cell_type": "markdown",
   "metadata": {
    "id": "wgzyvo8Hur27"
   },
   "source": [
    "**Question 7:** <br>\n",
    "**Display an bar chart showing the distribution of the age for the gold medal winners** <br>\n",
    "You can use 'sns.countplot' <br>\n",
    "(Optional Question) Display a better chart with a title, a 'xlabel', a 'ylabel' and display the count over the bar plot.\n",
    "You can do this with \"ax.patches\""
   ]
  },
  {
   "cell_type": "code",
   "execution_count": null,
   "metadata": {
    "id": "bkBB7wV3stGd"
   },
   "outputs": [],
   "source": []
  },
  {
   "cell_type": "code",
   "execution_count": null,
   "metadata": {
    "id": "ZvMNcBs1ss_X"
   },
   "outputs": [],
   "source": []
  },
  {
   "cell_type": "markdown",
   "metadata": {
    "id": "dR1h7XT_t3pY"
   },
   "source": [
    "**Question 8 (Bonus)**: <br>\n",
    "**Do host countries win more medals when they are at home?\n",
    "Display on a plot with sns.scatterplot in black the number of medals won by non-host countries for each edition, and in red for host countries.** <br>\n",
    "Play with the transparency parameter. (alpha with sns.scatterplot), and the s parameter (dot size).\n",
    "\n",
    "As a guide, alpha is between 0 and 1.\n",
    "s should be between 50 and 150."
   ]
  },
  {
   "cell_type": "code",
   "execution_count": null,
   "metadata": {
    "id": "_M2GsRtDstq3"
   },
   "outputs": [],
   "source": []
  },
  {
   "cell_type": "code",
   "execution_count": null,
   "metadata": {
    "id": "ZVuVqOnKssVt"
   },
   "outputs": [],
   "source": []
  },
  {
   "cell_type": "markdown",
   "metadata": {
    "id": "5NEzsPxcuRjn"
   },
   "source": [
    "**Question 9 (Bonus)**: <br>\n",
    "**Display a choropleth map with each order country, where the number of metal for each country is displayed with color.**\n",
    "\n",
    "*Note: Use plotly's `px.choropleth()` function to make the map interactive with `locationmode='Country'`* <br>\n",
    "\n",
    "The `locationmode` parameter is used to specify how the locations are defined in plotly's choropleth map. <br>\n",
    "It determines how Plotly should interpret and match the locations in your data to the actual geographic locations on the map.\n",
    "\n",
    "You can also display the country map by taking the log10 of the number of medals."
   ]
  },
  {
   "cell_type": "code",
   "execution_count": null,
   "metadata": {
    "id": "r83IMGlcsuyJ"
   },
   "outputs": [],
   "source": []
  },
  {
   "cell_type": "code",
   "execution_count": null,
   "metadata": {
    "id": "TkOLMQK6sxaC"
   },
   "outputs": [],
   "source": []
  },
  {
   "cell_type": "code",
   "execution_count": null,
   "metadata": {
    "id": "3af4CqGCsxW4"
   },
   "outputs": [],
   "source": []
  },
  {
   "cell_type": "markdown",
   "metadata": {
    "id": "kz3j1D0c6eEK"
   },
   "source": [
    "## 3. Expert Data visualization\n",
    "\n",
    "The following question is also optional. Those who will complete it correctly will receive a bonus."
   ]
  },
  {
   "cell_type": "markdown",
   "metadata": {
    "id": "e32fcFbRHM0X"
   },
   "source": [
    "**Question 10 for expert** <br>\n",
    "Use the folium, branca and geopandas packages to create an interactive map (folium.map).<br>\n",
    "On this map, when you move the mouse over a country, a small display shows the country, the number of total medals, and the number of gold, silver and bronze medals. <br>\n",
    "For the shape of the countries, we'll use polygons isssu from the code provided below. <br>"
   ]
  },
  {
   "cell_type": "code",
   "execution_count": null,
   "metadata": {
    "id": "sFQJ-btks0cF",
    "tags": []
   },
   "outputs": [],
   "source": [
    "!pip install geopandas"
   ]
  },
  {
   "cell_type": "code",
   "execution_count": null,
   "metadata": {
    "id": "RegoN0SEGMph",
    "tags": []
   },
   "outputs": [],
   "source": [
    "from folium.plugins import Search\n",
    "from folium.plugins import HeatMap\n",
    "import branca\n",
    "import folium\n",
    "from folium import plugins\n",
    "import geopandas as gpd\n",
    "\n",
    "\n",
    "# For geographic plotting\n",
    "url = 'https://raw.githubusercontent.com/python-visualization/folium/master/examples/data'\n",
    "country_shapes = f'{url}/world-countries.json'\n",
    "global_polygons = gpd.read_file(country_shapes)\n",
    "global_polygons.to_file('global_polygons.geojson', driver = 'GeoJSON')\n",
    "\n",
    "\n",
    "#Dataset to create\n",
    "#Usefull and style function to built\n",
    "\n",
    "m = folium.Map(location=(50,0),zoom_start=3)\n",
    "\n",
    "\n",
    "\n",
    "\n",
    "Map_Layer = folium.GeoJson(##to complete\n",
    ")\n",
    "\n",
    "\n",
    "\n",
    "plugins.Search(## To complete\n",
    "        ).add_to(m)\n",
    "\n",
    "\n",
    "minimap = plugins.MiniMap()\n",
    "m.add_child(minimap)\n",
    "folium.LayerControl().add_to(m)\n",
    "colormap.add_to(m)\n",
    "m"
   ]
  },
  {
   "cell_type": "code",
   "execution_count": null,
   "metadata": {
    "id": "Ab4QsgLCsztl"
   },
   "outputs": [],
   "source": []
  },
  {
   "cell_type": "code",
   "execution_count": null,
   "metadata": {
    "id": "HhCU1JPuszrX"
   },
   "outputs": [],
   "source": []
  },
  {
   "cell_type": "markdown",
   "metadata": {
    "id": "EaCW0R_xtTIW"
   },
   "source": [
    "**Now you can display other graphs as you see fit.**"
   ]
  }
 ],
 "metadata": {
  "colab": {
   "provenance": []
  },
  "kernelspec": {
   "display_name": "Python 3 (ipykernel)",
   "language": "python",
   "name": "python3"
  },
  "language_info": {
   "codemirror_mode": {
    "name": "ipython",
    "version": 3
   },
   "file_extension": ".py",
   "mimetype": "text/x-python",
   "name": "python",
   "nbconvert_exporter": "python",
   "pygments_lexer": "ipython3",
   "version": "3.10.13"
  }
 },
 "nbformat": 4,
 "nbformat_minor": 4
}
